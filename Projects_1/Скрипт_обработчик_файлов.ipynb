{
  "cells": [
    {
      "cell_type": "markdown",
      "metadata": {
        "id": "NtogEtw2KKDn"
      },
      "source": [
        "# Обработчик файлов"
      ]
    },
    {
      "cell_type": "code",
      "execution_count": 241,
      "metadata": {
        "colab": {
          "base_uri": "https://localhost:8080/"
        },
        "id": "ZJcV9riMloDu",
        "outputId": "b69f9cb5-19f2-4e3d-e26c-ee861f272fed"
      },
      "outputs": [
        {
          "output_type": "stream",
          "name": "stdout",
          "text": [
            "Requirement already satisfied: yadisk in /usr/local/lib/python3.10/dist-packages (2.0.0)\n"
          ]
        }
      ],
      "source": [
        "pip install yadisk\n"
      ]
    },
    {
      "cell_type": "code",
      "execution_count": 242,
      "metadata": {
        "colab": {
          "base_uri": "https://localhost:8080/"
        },
        "id": "iCJGzWcBA_V_",
        "outputId": "440737b2-f8e4-44d7-85d4-e7bcb12d1f18"
      },
      "outputs": [
        {
          "output_type": "stream",
          "name": "stdout",
          "text": [
            "Requirement already satisfied: openpyxl in /usr/local/lib/python3.10/dist-packages (3.1.2)\n",
            "Requirement already satisfied: et-xmlfile in /usr/local/lib/python3.10/dist-packages (from openpyxl) (1.1.0)\n"
          ]
        }
      ],
      "source": [
        "pip install openpyxl"
      ]
    },
    {
      "cell_type": "code",
      "execution_count": 243,
      "metadata": {
        "id": "Qld3BTVS5_yF"
      },
      "outputs": [],
      "source": [
        "# Импортируем библиотеки\n",
        "import yadisk\n",
        "import os\n",
        "import pandas as pd\n",
        "import re\n",
        "from tqdm import tqdm\n",
        "from openpyxl import load_workbook\n",
        "from google.colab import files\n",
        "import configparser"
      ]
    },
    {
      "cell_type": "code",
      "source": [
        "# Загружаем файл из сессионного хранилища\n",
        "uploaded = files.upload()\n",
        "\n",
        "# Создаем объект конфигурации\n",
        "config = configparser.ConfigParser()\n",
        "\n",
        "config.read('credentials.ini')\n",
        "\n",
        "app_id = config['Credentials']['app_id']\n",
        "secret_id = config['Credentials']['secret_id']\n",
        "ya_token = config['Credentials']['ya_token']"
      ],
      "metadata": {
        "colab": {
          "base_uri": "https://localhost:8080/",
          "height": 39
        },
        "id": "1Yi-mNxssUMw",
        "outputId": "fcd204e8-5d5f-4b52-c216-bd1eb3d3c356"
      },
      "execution_count": null,
      "outputs": [
        {
          "output_type": "display_data",
          "data": {
            "text/plain": [
              "<IPython.core.display.HTML object>"
            ],
            "text/html": [
              "\n",
              "     <input type=\"file\" id=\"files-9dc4eebc-eae6-4368-a510-7aaac503809f\" name=\"files[]\" multiple disabled\n",
              "        style=\"border:none\" />\n",
              "     <output id=\"result-9dc4eebc-eae6-4368-a510-7aaac503809f\">\n",
              "      Upload widget is only available when the cell has been executed in the\n",
              "      current browser session. Please rerun this cell to enable.\n",
              "      </output>\n",
              "      <script>// Copyright 2017 Google LLC\n",
              "//\n",
              "// Licensed under the Apache License, Version 2.0 (the \"License\");\n",
              "// you may not use this file except in compliance with the License.\n",
              "// You may obtain a copy of the License at\n",
              "//\n",
              "//      http://www.apache.org/licenses/LICENSE-2.0\n",
              "//\n",
              "// Unless required by applicable law or agreed to in writing, software\n",
              "// distributed under the License is distributed on an \"AS IS\" BASIS,\n",
              "// WITHOUT WARRANTIES OR CONDITIONS OF ANY KIND, either express or implied.\n",
              "// See the License for the specific language governing permissions and\n",
              "// limitations under the License.\n",
              "\n",
              "/**\n",
              " * @fileoverview Helpers for google.colab Python module.\n",
              " */\n",
              "(function(scope) {\n",
              "function span(text, styleAttributes = {}) {\n",
              "  const element = document.createElement('span');\n",
              "  element.textContent = text;\n",
              "  for (const key of Object.keys(styleAttributes)) {\n",
              "    element.style[key] = styleAttributes[key];\n",
              "  }\n",
              "  return element;\n",
              "}\n",
              "\n",
              "// Max number of bytes which will be uploaded at a time.\n",
              "const MAX_PAYLOAD_SIZE = 100 * 1024;\n",
              "\n",
              "function _uploadFiles(inputId, outputId) {\n",
              "  const steps = uploadFilesStep(inputId, outputId);\n",
              "  const outputElement = document.getElementById(outputId);\n",
              "  // Cache steps on the outputElement to make it available for the next call\n",
              "  // to uploadFilesContinue from Python.\n",
              "  outputElement.steps = steps;\n",
              "\n",
              "  return _uploadFilesContinue(outputId);\n",
              "}\n",
              "\n",
              "// This is roughly an async generator (not supported in the browser yet),\n",
              "// where there are multiple asynchronous steps and the Python side is going\n",
              "// to poll for completion of each step.\n",
              "// This uses a Promise to block the python side on completion of each step,\n",
              "// then passes the result of the previous step as the input to the next step.\n",
              "function _uploadFilesContinue(outputId) {\n",
              "  const outputElement = document.getElementById(outputId);\n",
              "  const steps = outputElement.steps;\n",
              "\n",
              "  const next = steps.next(outputElement.lastPromiseValue);\n",
              "  return Promise.resolve(next.value.promise).then((value) => {\n",
              "    // Cache the last promise value to make it available to the next\n",
              "    // step of the generator.\n",
              "    outputElement.lastPromiseValue = value;\n",
              "    return next.value.response;\n",
              "  });\n",
              "}\n",
              "\n",
              "/**\n",
              " * Generator function which is called between each async step of the upload\n",
              " * process.\n",
              " * @param {string} inputId Element ID of the input file picker element.\n",
              " * @param {string} outputId Element ID of the output display.\n",
              " * @return {!Iterable<!Object>} Iterable of next steps.\n",
              " */\n",
              "function* uploadFilesStep(inputId, outputId) {\n",
              "  const inputElement = document.getElementById(inputId);\n",
              "  inputElement.disabled = false;\n",
              "\n",
              "  const outputElement = document.getElementById(outputId);\n",
              "  outputElement.innerHTML = '';\n",
              "\n",
              "  const pickedPromise = new Promise((resolve) => {\n",
              "    inputElement.addEventListener('change', (e) => {\n",
              "      resolve(e.target.files);\n",
              "    });\n",
              "  });\n",
              "\n",
              "  const cancel = document.createElement('button');\n",
              "  inputElement.parentElement.appendChild(cancel);\n",
              "  cancel.textContent = 'Cancel upload';\n",
              "  const cancelPromise = new Promise((resolve) => {\n",
              "    cancel.onclick = () => {\n",
              "      resolve(null);\n",
              "    };\n",
              "  });\n",
              "\n",
              "  // Wait for the user to pick the files.\n",
              "  const files = yield {\n",
              "    promise: Promise.race([pickedPromise, cancelPromise]),\n",
              "    response: {\n",
              "      action: 'starting',\n",
              "    }\n",
              "  };\n",
              "\n",
              "  cancel.remove();\n",
              "\n",
              "  // Disable the input element since further picks are not allowed.\n",
              "  inputElement.disabled = true;\n",
              "\n",
              "  if (!files) {\n",
              "    return {\n",
              "      response: {\n",
              "        action: 'complete',\n",
              "      }\n",
              "    };\n",
              "  }\n",
              "\n",
              "  for (const file of files) {\n",
              "    const li = document.createElement('li');\n",
              "    li.append(span(file.name, {fontWeight: 'bold'}));\n",
              "    li.append(span(\n",
              "        `(${file.type || 'n/a'}) - ${file.size} bytes, ` +\n",
              "        `last modified: ${\n",
              "            file.lastModifiedDate ? file.lastModifiedDate.toLocaleDateString() :\n",
              "                                    'n/a'} - `));\n",
              "    const percent = span('0% done');\n",
              "    li.appendChild(percent);\n",
              "\n",
              "    outputElement.appendChild(li);\n",
              "\n",
              "    const fileDataPromise = new Promise((resolve) => {\n",
              "      const reader = new FileReader();\n",
              "      reader.onload = (e) => {\n",
              "        resolve(e.target.result);\n",
              "      };\n",
              "      reader.readAsArrayBuffer(file);\n",
              "    });\n",
              "    // Wait for the data to be ready.\n",
              "    let fileData = yield {\n",
              "      promise: fileDataPromise,\n",
              "      response: {\n",
              "        action: 'continue',\n",
              "      }\n",
              "    };\n",
              "\n",
              "    // Use a chunked sending to avoid message size limits. See b/62115660.\n",
              "    let position = 0;\n",
              "    do {\n",
              "      const length = Math.min(fileData.byteLength - position, MAX_PAYLOAD_SIZE);\n",
              "      const chunk = new Uint8Array(fileData, position, length);\n",
              "      position += length;\n",
              "\n",
              "      const base64 = btoa(String.fromCharCode.apply(null, chunk));\n",
              "      yield {\n",
              "        response: {\n",
              "          action: 'append',\n",
              "          file: file.name,\n",
              "          data: base64,\n",
              "        },\n",
              "      };\n",
              "\n",
              "      let percentDone = fileData.byteLength === 0 ?\n",
              "          100 :\n",
              "          Math.round((position / fileData.byteLength) * 100);\n",
              "      percent.textContent = `${percentDone}% done`;\n",
              "\n",
              "    } while (position < fileData.byteLength);\n",
              "  }\n",
              "\n",
              "  // All done.\n",
              "  yield {\n",
              "    response: {\n",
              "      action: 'complete',\n",
              "    }\n",
              "  };\n",
              "}\n",
              "\n",
              "scope.google = scope.google || {};\n",
              "scope.google.colab = scope.google.colab || {};\n",
              "scope.google.colab._files = {\n",
              "  _uploadFiles,\n",
              "  _uploadFilesContinue,\n",
              "};\n",
              "})(self);\n",
              "</script> "
            ]
          },
          "metadata": {}
        }
      ]
    },
    {
      "cell_type": "code",
      "execution_count": 245,
      "metadata": {
        "id": "gF0ahXLn9Qy9"
      },
      "outputs": [],
      "source": [
        "# Подключаемся к Яндекс Диску\n",
        "y = yadisk.YaDisk(app_id, secret_id, ya_token)\n"
      ]
    },
    {
      "cell_type": "code",
      "execution_count": 246,
      "metadata": {
        "colab": {
          "base_uri": "https://localhost:8080/"
        },
        "id": "7Kd1Rv1P93Xl",
        "outputId": "52baf672-0915-4372-c93c-528a8b69c4e5"
      },
      "outputs": [
        {
          "output_type": "stream",
          "name": "stderr",
          "text": [
            "100%|██████████| 148/148 [00:00<00:00, 145308.28it/s]\n"
          ]
        }
      ],
      "source": [
        "# Создаем список файлов для загрузки через списочное выражение, чтоб попали файлы с расширением xlsx\n",
        "list_of_files = []\n",
        "\n",
        "for el in tqdm(list(y.listdir('file_processor'))):\n",
        "  if el['path'].endswith('.xlsx'):\n",
        "    list_of_files.append(el['path'])\n",
        "\n"
      ]
    },
    {
      "cell_type": "code",
      "execution_count": 247,
      "metadata": {
        "id": "IM8zWFHmZI9o"
      },
      "outputs": [],
      "source": [
        "# Создаем папку files для загрузки\n",
        "load_path = '/content/files/'\n"
      ]
    },
    {
      "cell_type": "code",
      "execution_count": 248,
      "metadata": {
        "colab": {
          "base_uri": "https://localhost:8080/"
        },
        "id": "psLou6fQbwuK",
        "outputId": "8c6ac09b-48ba-449e-b1b6-60de3be690d6"
      },
      "outputs": [
        {
          "output_type": "stream",
          "name": "stderr",
          "text": [
            "100%|██████████| 147/147 [04:19<00:00,  1.77s/it]\n"
          ]
        }
      ],
      "source": [
        "# Загружаем файлы с яндекс диска\n",
        "for file in tqdm(list_of_files):\n",
        " y.download(file.split(':')[1], file.split('/')[-1])\n"
      ]
    },
    {
      "cell_type": "code",
      "execution_count": 249,
      "metadata": {
        "colab": {
          "base_uri": "https://localhost:8080/"
        },
        "id": "ixTsmjPiYpm7",
        "outputId": "dc5a50e1-58c8-4bb2-cfa1-cd21fadfc5bd"
      },
      "outputs": [
        {
          "output_type": "execute_result",
          "data": {
            "text/plain": [
              "['disk:/file_processor/2021_Таблица_005_Злокачественные_новообразования_в_РФ_(заболеваемость_и_смертность).xlsx',\n",
              " 'disk:/file_processor/2021_Таблица_006_Злокачественные_новообразования_в_РФ_(заболеваемость_и_смертность).xlsx',\n",
              " 'disk:/file_processor/2021_Таблица_007_Злокачественные_новообразования_в_РФ_(заболеваемость_и_смертность).xlsx']"
            ]
          },
          "metadata": {},
          "execution_count": 249
        }
      ],
      "source": [
        "# Закачиваем файлы на диск\n",
        "list_of_files[:3]"
      ]
    },
    {
      "cell_type": "code",
      "execution_count": 250,
      "metadata": {
        "colab": {
          "base_uri": "https://localhost:8080/"
        },
        "id": "qU-laC7AYu_b",
        "outputId": "2a1b875a-e658-457b-e339-127a8ebfa3ad"
      },
      "outputs": [
        {
          "output_type": "execute_result",
          "data": {
            "text/plain": [
              "['disk:',\n",
              " 'file_processor',\n",
              " '2021_Таблица_005_Злокачественные_новообразования_в_РФ_(заболеваемость_и_смертность).xlsx']"
            ]
          },
          "metadata": {},
          "execution_count": 250
        }
      ],
      "source": [
        "list_of_files[0].split('/')"
      ]
    },
    {
      "cell_type": "code",
      "execution_count": 251,
      "metadata": {
        "id": "5Fws2GN5aKeg"
      },
      "outputs": [],
      "source": [
        "#  Создадим 4 списка с номерами файлов, которые будем объединять, с помощью zfill() добавим нули в начало числа.\n",
        "#  3 датафрейм будет сфоомирован из files_list_free + files_list_three_no_gender. Так как таблицы из files_list_three_no_gender не содержат сведения с разбивкой по полу.\n",
        "#  4 датафрейм будет сфоомирован из files_list_four + files_list_four_no_gender. Так как таблицы из files_list_four_no_gender не содержат сведения с разбивкой по полу.\n",
        "\n",
        "files_list_one = [58] + list(range(61, 86))\n",
        "files_list_two = [24] + list(range(27, 52))\n",
        "files_list_three = list(range(12, 36)) + list(range(45,60))\n",
        "files_list_three_no_gender = list(range(36,45))\n",
        "files_list_four = list(range(69, 87)) + list(range(93,104))\n",
        "files_list_four_no_gender = list(range(87,93))\n",
        "\n",
        "lists = [\n",
        "     files_list_one,\n",
        "     files_list_two,\n",
        "     files_list_three,\n",
        "     files_list_three_no_gender,\n",
        "     files_list_four,\n",
        "     files_list_four_no_gender\n",
        "]\n",
        "\n",
        "for file_list in lists:\n",
        "    for i in range(len(file_list)):\n",
        "        file_list[i] = str(file_list[i]).zfill(3)\n",
        "\n"
      ]
    },
    {
      "cell_type": "code",
      "execution_count": 252,
      "metadata": {
        "id": "4MrLzxOgbRfb"
      },
      "outputs": [],
      "source": [
        "convert_one = []\n",
        "convert_two = []\n",
        "convert_three = []\n",
        "convert_three_dop = []\n",
        "convert_four = []\n",
        "convert_four_dop = []"
      ]
    },
    {
      "cell_type": "code",
      "execution_count": 253,
      "metadata": {
        "id": "dw8DdOM9yo0o"
      },
      "outputs": [],
      "source": [
        "for file in os.listdir():\n",
        "    file_parts = file.split('_')\n",
        "    if len(file_parts) >= 3:\n",
        "        if str(file_parts[2]) in files_list_one and 'Сост' in file:\n",
        "            convert_one.append(file)\n",
        "        else:\n",
        "            pass\n",
        "    else:\n",
        "        pass\n",
        "\n"
      ]
    },
    {
      "cell_type": "code",
      "execution_count": 254,
      "metadata": {
        "id": "uw9Vu86AyzDB"
      },
      "outputs": [],
      "source": [
        "for file in os.listdir():\n",
        "    file_parts = file.split('_')\n",
        "    if len(file_parts) >= 3:\n",
        "        if str(file_parts[2]) in files_list_two and 'Сост' in file:\n",
        "            convert_two.append(file)\n",
        "        else:\n",
        "            pass\n",
        "    else:\n",
        "        pass\n"
      ]
    },
    {
      "cell_type": "code",
      "execution_count": 255,
      "metadata": {
        "id": "SEWnVcUXq3LL"
      },
      "outputs": [],
      "source": [
        "for file in os.listdir():\n",
        "    file_parts = file.split('_')\n",
        "    if len(file_parts) >= 3:\n",
        "        if str(file_parts[2]) in files_list_three and 'Зло' in file:\n",
        "            convert_three.append(file)\n",
        "        else:\n",
        "            pass\n",
        "    else:\n",
        "        pass\n",
        "\n",
        "\n"
      ]
    },
    {
      "cell_type": "code",
      "execution_count": 256,
      "metadata": {
        "id": "ABjQ3bNTHsJU"
      },
      "outputs": [],
      "source": [
        "for file in os.listdir():\n",
        "    file_parts = file.split('_')\n",
        "    if len(file_parts) >= 3:\n",
        "        if str(file_parts[2]) in files_list_three_no_gender and 'Зло' in file:\n",
        "            convert_three_dop.append(file)\n",
        "        else:\n",
        "            pass\n",
        "    else:\n",
        "        pass\n",
        "\n"
      ]
    },
    {
      "cell_type": "code",
      "execution_count": 257,
      "metadata": {
        "id": "7DdWXNRwy78p"
      },
      "outputs": [],
      "source": [
        "for file in os.listdir():\n",
        "    file_parts = file.split('_')\n",
        "    if len(file_parts) >= 3:\n",
        "        if str(file_parts[2]) in files_list_four and 'Зло' in file:\n",
        "            convert_four.append(file)\n",
        "    else:\n",
        "        pass\n",
        "else:\n",
        "    pass\n"
      ]
    },
    {
      "cell_type": "code",
      "execution_count": 258,
      "metadata": {
        "id": "U3ajrhkDPE1K"
      },
      "outputs": [],
      "source": [
        "for file in os.listdir():\n",
        "    file_parts = file.split('_')\n",
        "    if len(file_parts) >= 3:\n",
        "        if str(file_parts[2]) in files_list_four_no_gender and 'Зло' in file:\n",
        "            convert_four_dop.append(file)\n",
        "    else:\n",
        "        pass\n",
        "else:\n",
        "    pass\n"
      ]
    },
    {
      "cell_type": "markdown",
      "metadata": {
        "id": "wnf-3-t6UhZs"
      },
      "source": [
        "В переменной final_one сохраним таблицы из списка convert_one"
      ]
    },
    {
      "cell_type": "code",
      "execution_count": 259,
      "metadata": {
        "id": "i0BDla6ETQ2a"
      },
      "outputs": [],
      "source": [
        "final_one = []"
      ]
    },
    {
      "cell_type": "code",
      "execution_count": 260,
      "metadata": {
        "colab": {
          "base_uri": "https://localhost:8080/"
        },
        "id": "l_OrBnoHOvkY",
        "outputId": "2d395919-5930-4dfa-9f49-7d645cbc137c"
      },
      "outputs": [
        {
          "output_type": "stream",
          "name": "stderr",
          "text": [
            "100%|██████████| 26/26 [00:01<00:00, 13.48it/s]"
          ]
        },
        {
          "output_type": "stream",
          "name": "stdout",
          "text": [
            "Некорректный формат значения ячейки А1 в файле: sample_data\n"
          ]
        },
        {
          "output_type": "stream",
          "name": "stderr",
          "text": [
            "\n"
          ]
        }
      ],
      "source": [
        "for el in tqdm(convert_one):\n",
        "    vars = load_workbook(el).active['A1'].value.split('  ')\n",
        "    ind, loc = ' '.join(vars[0].split('\\n')[0:2]).capitalize(), vars[0].split('\\n')[2]\n",
        "    table = vars[-1].strip()\n",
        "    df = pd.read_excel(el, header=[2])\n",
        "    year = re.search(r'\\b\\d{4}\\b', vars[0]).group()\n",
        "    df.columns = ['Регион',\n",
        "                  'Число ЗНО, выявленных в отчетном году, радикальное лечение которых закончено в отчетном году, чел.',\n",
        "                  'Число ЗНО, выявленных в отчетном году, радикальное лечение которых закончено в отчетном году, % от впервые выявленных',\n",
        "                  'Число ЗНО, выявленных в отчетном году, радикальное лечение которых будет продолжено в отчетом году, чел.',\n",
        "                  'Число ЗНО, выявленных в отчетном году, радикальное лечение которых будет продолжено в отчетном году, % от впервые выявленных',\n",
        "                  'В том числе с использованием методов только хирургического, %',\n",
        "                  'В том числе с использованием методов только лучевого, %',\n",
        "                  'В том числе с использованием методов только лекарственного, %',\n",
        "                  'В том числе с использованием методов комбинированного или комплексного (кроме химиолучевого), %',\n",
        "                  'В том числе с использованием методов химиолучевого, %']\n",
        "    df['Индикатор'] = ind\n",
        "    df['Локализация'] = loc\n",
        "    df['Таблица'] = table\n",
        "    df['Тип данных'] = 'СОП зарегистрировано'\n",
        "    df['Год'] = year\n",
        "    final_one.append(df)\n",
        "else:\n",
        "    print(\"Некорректный формат значения ячейки А1 в файле:\", file)"
      ]
    },
    {
      "cell_type": "code",
      "execution_count": 261,
      "metadata": {
        "id": "k5CxUb7EUJDI"
      },
      "outputs": [],
      "source": [
        "#  в final_one_df объединим все таблицы из спика final_one\n",
        "final_one_df = pd.concat(final_one)\n"
      ]
    },
    {
      "cell_type": "code",
      "execution_count": 262,
      "metadata": {
        "id": "fBOzHmPF--Vl"
      },
      "outputs": [],
      "source": [
        "#  создадим словарь с Федеральными округами России и входящими в них субъектами\n",
        "fed_districts = {'ЦЕНТРАЛЬНЫЙ ФО' :\n",
        "               ['Белгородская область', 'Брянская область', 'Владимирская область', 'Воронежская область', 'Ивановская область',\\\n",
        "                'Калужская область', 'Костромская область', 'Курская область', 'Липецкая область', 'Московская область', 'Орловская область', \\\n",
        "                'Рязанская область', 'Смоленская область', 'Тамбовская область', 'Тверская область', 'Тульская область', 'Ярославская область', 'г. Москва'],\n",
        "               'СЕВЕРО-ЗАПАДНЫЙ ФО' :\n",
        "               ['Республика Карелия', 'Республика Коми', 'Архангельская обл.(б/а.о)', 'Вологодская область', 'Калининградская область', 'Ленинградская область', \\\n",
        "                'Мурманская область', 'Новгородская область', 'Псковская область', 'г. Санкт-Петербург', \\\n",
        "                'Ненецкий а.о.'],\n",
        "               'ЮЖНЫЙ ФО' :\n",
        "               ['Краснодарский край', 'Астраханская область', 'Волгоградская область', 'Ростовская область', 'Республика Адыгея', 'Республика Калмыкия',\\\n",
        "                'Республика Крым', 'Город Cевастополь'],\n",
        "               'СЕВЕРО-КАВКАЗСКИЙ ФО' :\n",
        "               ['Ставропольский край', 'Республика Ингушетия', 'Республика Дагестан', 'Респ. Кабардино-Балкария', 'Респ. Северная Осетия',\\\n",
        "                'Респ. Карачаево-Черкесия', 'Республика Чечня'],\n",
        "               'ПРИВОЛЖСКИЙ ФО' :\n",
        "               ['Нижегородская область', 'Кировская область', 'Самарская область', 'Оренбургская область', 'Пензенская область',\\\n",
        "                'Пермский край', 'Саратовская область', 'Ульяновская область', 'Республика Башкортостан', 'Республика Марий Эл',\\\n",
        "                'Республика Мордовия', 'Республика Татарстан', 'Республика Удмуртия', 'Республика Чувашия'],\n",
        "               'УРАЛЬСКИЙ ФО' :\n",
        "               ['Ханты-Мансийский а.о.', 'Ямало-Ненецкий а.о.', 'Курганская область', 'Свердловская область', 'Тюменская обл.(б/а.о)',\\\n",
        "                'Челябинская область'],\n",
        "               'СИБИРСКИЙ ФО' :\n",
        "               ['Алтайский край', 'Красноярский край', 'Иркутская область', 'Кемеровская область', 'Новосибирская область', 'Омская область',\\\n",
        "                'Томская область', 'Республика Алтай', 'Республика Тыва', 'Республика Хакасия'],\n",
        "               'ДАЛЬНЕВОСТОЧНЫЙ ФО' :\n",
        "               ['Приморский край', 'Хабаровский край', 'Амурская область', 'Камчатский край', 'Магаданская область', 'Сахалинская область', 'Забайкальский край',\\\n",
        "                'Чукотский авт.округ', 'Республика Бурятия', 'Республика Саха (Якутия)', 'Еврейская авт. обл.']}\n",
        "\n",
        "\n"
      ]
    },
    {
      "cell_type": "code",
      "execution_count": 263,
      "metadata": {
        "id": "DKA-6fJajtOZ"
      },
      "outputs": [],
      "source": [
        "#  Удаление пробелов в начале и конце строк в столбце регион\n",
        "final_one_df.loc[:, 'Регион'] = final_one_df['Регион'].str.strip()"
      ]
    },
    {
      "cell_type": "code",
      "execution_count": 264,
      "metadata": {
        "id": "AeWbaM-n8Tcr"
      },
      "outputs": [],
      "source": [
        "# Удаление строки с названием \"Россия\"\n",
        "final_one_df = final_one_df[final_one_df['Регион'] != 'РОССИЯ']"
      ]
    },
    {
      "cell_type": "code",
      "execution_count": 265,
      "metadata": {
        "id": "wuqZU2Sz48EK"
      },
      "outputs": [],
      "source": [
        "# Извлекаем все строки, содержащие 'ФО'\n",
        "bad_df = final_one_df[final_one_df['Регион'].str.upper().str.contains('ФО', regex=True)]\n",
        "\n",
        "# Удаляем строки из final_one_df, которые есть в bad_df\n",
        "final_one_df = final_one_df[~final_one_df['Регион'].isin(bad_df['Регион'])]\n"
      ]
    },
    {
      "cell_type": "code",
      "execution_count": 266,
      "metadata": {
        "id": "zfQ96sxv8HtH"
      },
      "outputs": [],
      "source": [
        "# Создание нового столбца 'ФО' на основе существующего столбца 'Регион' с использованием лямбда-функции\n",
        "final_one_df['ФО'] = final_one_df['Регион'].apply(lambda x: next((fd for fd, subs in fed_districts.items() if x in subs), None))"
      ]
    },
    {
      "cell_type": "code",
      "execution_count": 267,
      "metadata": {
        "colab": {
          "base_uri": "https://localhost:8080/"
        },
        "id": "MKiS6ixjE8J7",
        "outputId": "ea001a40-03c5-4f7d-f966-ed34f56a91e7"
      },
      "outputs": [
        {
          "output_type": "stream",
          "name": "stdout",
          "text": [
            "Некорректный формат значения ячейки А1 в файле: 2021_Таблица_032_Состояние_онко_помощи_в_РФ.xlsx\n"
          ]
        }
      ],
      "source": [
        "final_two = []\n",
        "\n",
        "for file in convert_two:\n",
        "    workbook = openpyxl.load_workbook(file)\n",
        "    first_sheet = workbook.worksheets[0]\n",
        "    cell_value = first_sheet['A1'].value.split('  ')\n",
        "\n",
        "    if len(cell_value) >= 4:\n",
        "        ind = first_sheet['A1'].value.split('\\n')[0].split('В 2021 Г.')[0]\n",
        "        loc = first_sheet['A1'].value.split('\\n')[-1].split('Таблица')[0].strip()\n",
        "        table = first_sheet['A1'].value.split('  ')[-1].split('\\n')[0].strip()\n",
        "        year =  first_sheet['A1'].value.split('Г.')[0].split(' ')[-2]\n",
        "\n",
        "        df = pd.read_excel(file, header=[2])\n",
        "        df.columns = [\n",
        "            'Регион',\n",
        "            'Взято на учет больных с впервые в жизни уст. диагнозом ЗНО',\n",
        "            'в т.ч. вы- явлены активно, %',\n",
        "            'Находились на учете на конец года, абсолютное число',\n",
        "            'Находились на учете на конец года, на 100 тыс. населения',\n",
        "            'Из них 5 лет и более, абсолютное число',\n",
        "            'Из них 5 лет и более, %  от сост. на учете',\n",
        "            'Индекс накопления контингентов',\n",
        "            'Летальность, %'\n",
        "        ]\n",
        "\n",
        "        df['Индикатор'] = ind\n",
        "        df['Локализация'] = loc\n",
        "        df['Таблица'] = table\n",
        "        df['Тип данных'] = 'СОП зарегистрировано'\n",
        "        df['Год'] = year\n",
        "\n",
        "        final_two.append(df)\n",
        "    else:\n",
        "        print(\"Некорректный формат значения ячейки А1 в файле:\", file)\n",
        "\n"
      ]
    },
    {
      "cell_type": "code",
      "execution_count": 268,
      "metadata": {
        "id": "tB5oDRteESQ-"
      },
      "outputs": [],
      "source": [
        "final_two_df = pd.concat(final_two)\n"
      ]
    },
    {
      "cell_type": "code",
      "execution_count": 269,
      "metadata": {
        "id": "Vq3lTcYgcwI-"
      },
      "outputs": [],
      "source": [
        "#  Удаление пробелов в начале и конце строк в столбце регион\n",
        "final_two_df.loc[:, 'Регион'] = final_two_df['Регион'].str.strip()\n",
        "# Удаление строки с названием \"Россия\"\n",
        "final_two_df = final_two_df[final_two_df['Регион'] != 'РОССИЯ']\n",
        "# Извлекаем все строки, содержащие 'ФО'\n",
        "bad_df = final_two_df[final_two_df['Регион'].str.upper().str.contains('ФО', regex=True)]\n",
        "# Удаляем строки из final_two_df, которые есть в bad_df\n",
        "final_two_df = final_two_df[~final_two_df['Регион'].isin(bad_df['Регион'])]\n",
        "# Создание нового столбца 'ФО' на основе существующего столбца 'Регион' с использованием лямбда-функции\n",
        "final_two_df['ФО'] = final_two_df['Регион'].apply(lambda x: next((fd for fd, subs in fed_districts.items() if x in subs), None))\n"
      ]
    },
    {
      "cell_type": "code",
      "execution_count": 270,
      "metadata": {
        "id": "x8v6gjYtUAbv"
      },
      "outputs": [],
      "source": [
        "#  Некорректно обработалась Таблица 32\n",
        "#  Придется добавлять ее\n",
        "final_two_df.loc[final_two_df['Таблица'] == '', 'Таблица'] = 'Таблица 32'\n"
      ]
    },
    {
      "cell_type": "code",
      "execution_count": 271,
      "metadata": {
        "colab": {
          "base_uri": "https://localhost:8080/"
        },
        "id": "SYt28veuefGH",
        "outputId": "27db9e9f-5122-430e-e652-d11ba5a47c3b"
      },
      "outputs": [
        {
          "output_type": "stream",
          "name": "stdout",
          "text": [
            "Некорректный формат значения ячейки А1 в файле: 2021_Таблица_028_Состояние_онко_помощи_в_РФ.xlsx\n",
            "Некорректный формат значения ячейки А1 в файле: 2021_Таблица_027_Состояние_онко_помощи_в_РФ.xlsx\n",
            "Некорректный формат значения ячейки А1 в файле: 2021_Таблица_048_Состояние_онко_помощи_в_РФ.xlsx\n"
          ]
        }
      ],
      "source": [
        "#  обработаем в каждом файле из второго списка вторые листы:\n",
        "final_two_dop = []\n",
        "\n",
        "for file in convert_two:\n",
        "    workbook = openpyxl.load_workbook(file)\n",
        "    first_sheet = workbook.worksheets[-1]\n",
        "    cell_value = first_sheet['A1'].value.split('  ')\n",
        "\n",
        "    if len(cell_value) >= 4:\n",
        "        ind = first_sheet['A1'].value.split(',')[0]\n",
        "        loc = first_sheet['A1'].value.split('\\n')[-1].split('Таблица')[0].strip()\n",
        "        table = cell_value[-1].strip()\n",
        "        year =  first_sheet['A1'].value.split('Г.')[0].split(' ')[-2]\n",
        "\n",
        "        df = pd.read_excel(file, header=[2])\n",
        "        df.columns = [\n",
        "            'Регион',\n",
        "            'Зарегистрировано ЗНО (без учтенных посмертно)',\n",
        "            'Из них, диагноз подтвержден морфологически, %',\n",
        "            'Из них, имели стадию заболевания, %, I',\n",
        "            'Из них, имели стадию заболевания, %, II',\n",
        "            'Из них, имели стадию заболевания, %, III',\n",
        "            'Из них, имели стадию заболевания, %, IV',\n",
        "            'Из них, имели стадию заболевания, %, не установлена',\n",
        "            'Летальность на первом году с момента уст. диагноза, %'\n",
        "        ]\n",
        "\n",
        "        df['Индикатор'] = ind\n",
        "        df['Локализация'] = loc\n",
        "        df['Таблица'] = table\n",
        "        df['Тип данных'] = 'СОП зарегистрировано продолжение'\n",
        "        df['Год'] = year\n",
        "\n",
        "        final_two_dop.append(df)\n",
        "    else:\n",
        "        print(\"Некорректный формат значения ячейки А1 в файле:\", file)"
      ]
    },
    {
      "cell_type": "code",
      "execution_count": 272,
      "metadata": {
        "id": "HWbQh3G2fenK"
      },
      "outputs": [],
      "source": [
        "final_two_dop_df = pd.concat(final_two_dop)\n"
      ]
    },
    {
      "cell_type": "code",
      "execution_count": 273,
      "metadata": {
        "id": "cprMG5M8hEhx"
      },
      "outputs": [],
      "source": [
        "#  Удаление пробелов в начале и конце строк в столбце регион\n",
        "final_two_dop_df.loc[:, 'Регион'] = final_two_dop_df['Регион'].str.strip()\n",
        "# Удаление строки с названием \"Россия\"\n",
        "final_two_dop_df = final_two_dop_df[final_two_dop_df['Регион'] != 'РОССИЯ']\n",
        "# Извлекаем все строки, содержащие 'ФО'\n",
        "bad_df = final_two_dop_df[final_two_dop_df['Регион'].str.upper().str.contains('ФО', regex=True)]\n",
        "# Удаляем строки из final_two_df, которые есть в bad_df\n",
        "final_two_dop_df = final_two_dop_df[~final_two_dop_df['Регион'].isin(bad_df['Регион'])]\n",
        "# Создание нового столбца 'ФО' на основе существующего столбца 'Регион' с использованием лямбда-функции\n",
        "final_two_dop_df['ФО'] = final_two_dop_df['Регион'].apply(lambda x: next((fd for fd, subs in fed_districts.items() if x in subs), None))\n",
        "\n"
      ]
    },
    {
      "cell_type": "code",
      "execution_count": 274,
      "metadata": {
        "colab": {
          "base_uri": "https://localhost:8080/"
        },
        "id": "4wQ8j2cmPMQV",
        "outputId": "f77028ce-e4b2-4d0b-9221-b006a213e5a0"
      },
      "outputs": [
        {
          "output_type": "stream",
          "name": "stderr",
          "text": [
            "100%|██████████| 39/39 [01:09<00:00,  1.78s/it]\n"
          ]
        }
      ],
      "source": [
        "#  создадим 3 датафрейм, который будет состоять из 2 списков файлов: convert_three и convert_three_dop\n",
        "# Определение пустого списка final_free\n",
        "final_three = []\n",
        "\n",
        "# Цикл для обработки каждого файла в convert_four\n",
        "for el in tqdm(convert_three):\n",
        "    # Открытие файла Excel\n",
        "    workbook = openpyxl.load_workbook(el)\n",
        "\n",
        "    # Выбор активного листа\n",
        "    sheet = workbook.active\n",
        "\n",
        "    # Извлечение значений из ячеек\n",
        "    ind = sheet['A2'].value\n",
        "    table = sheet['A1'].value\n",
        "    loc = sheet['B4'].value\n",
        "    year = sheet['B3'].value\n",
        "\n",
        "    # Чтение данных из файла Excel в DataFrame\n",
        "    df_three = pd.read_excel(el, header=[6])\n",
        "    df_three.columns = ['Регион',\n",
        "                  'Все население, абсолютное число',\n",
        "                  'Все население,Показатель на 100 тыс. населения, \"грубый\"',\n",
        "                  'Все население,Показатель на 100 тыс. населения, стандартизованный',\n",
        "                  'Все население,Показатель на 100 тыс. населения, ошибка',\n",
        "                  'Мужчины, абсолютное число',\n",
        "                  'Мужчины, Показатель на 100 тыс. населения, \"грубый\"',\n",
        "                  'Мужчины, Показатель на 100 тыс. населения, стандартизованный',\n",
        "                  'Мужчины, Показатель на 100 тыс. населения, ошибка',\n",
        "                  'Женщины, абсолютное число',\n",
        "                  'Женщины, Показатель на 100 тыс. населения, \"грубый\"',\n",
        "                  'Женщины, Показатель на 100 тыс. населения, стандартизованный',\n",
        "                  'Женщины, Показатель на 100 тыс. населения, ошибка',]\n",
        "    df_three['Индикатор'] = ind\n",
        "    df_three['Локализация'] = loc\n",
        "    df_three['Таблица'] = table\n",
        "    df_three['Тип данных'] = 'ЗНО заболеваемость'\n",
        "    df_three['Год'] = year\n",
        "\n",
        "    # Добавление DataFrame в список final_four\n",
        "    final_three.append(df_three)\n"
      ]
    },
    {
      "cell_type": "code",
      "execution_count": 275,
      "metadata": {
        "id": "7Q0cK23RQJVC"
      },
      "outputs": [],
      "source": [
        "final_three_df = pd.concat(final_three)\n"
      ]
    },
    {
      "cell_type": "code",
      "execution_count": 276,
      "metadata": {
        "id": "8xSCR6KAQaG-"
      },
      "outputs": [],
      "source": [
        "#  Удаление пробелов в начале и конце строк в столбце регион\n",
        "final_three_df.loc[:, 'Регион'] = final_three_df['Регион'].str.strip()\n",
        "# Удаление строки с названием \"Россия\"\n",
        "final_three_df = final_three_df[final_three_df['Регион'] != 'РОССИЯ']\n",
        "# Извлекаем все строки, содержащие 'ФО'\n",
        "bad_df = final_three_df[final_three_df['Регион'].str.upper().str.contains('ФО', regex=True)]\n",
        "# Удаляем строки из final_three_df, которые есть в bad_df\n",
        "final_three_df = final_three_df[~final_three_df['Регион'].isin(bad_df['Регион'])]\n",
        "# Создание нового столбца 'ФО' на основе существующего столбца 'Регион' с использованием лямбда-функции\n",
        "final_three_df['ФО'] = final_three_df['Регион'].apply(lambda x: next((fd for fd, subs in fed_districts.items() if x in subs), None))\n"
      ]
    },
    {
      "cell_type": "code",
      "execution_count": 277,
      "metadata": {
        "id": "5lbrrev1Qo_w"
      },
      "outputs": [],
      "source": [
        "# Мы получили широкий датафрейм, в котором нужно выделить отдельно пол и разделить на 3 отдельных датафрейма\n",
        "# Создание первого DataFrame\n",
        "df_1 = final_three_df.loc[:, ['Регион', 'Все население, абсолютное число', 'Все население,Показатель на 100 тыс. населения, \"грубый\"', 'Все население,Показатель на 100 тыс. населения, стандартизованный', 'Все население,Показатель на 100 тыс. населения, ошибка', 'Индикатор', 'Локализация', 'Таблица', 'Тип данных', 'Год', 'ФО']]\n",
        "\n",
        "# Создание второго DataFrame\n",
        "df_2 = final_three_df.loc[:, ['Регион', 'Мужчины, абсолютное число', 'Мужчины, Показатель на 100 тыс. населения, \"грубый\"', 'Мужчины, Показатель на 100 тыс. населения, стандартизованный', 'Мужчины, Показатель на 100 тыс. населения, ошибка', 'Индикатор', 'Локализация', 'Таблица', 'Тип данных', 'Год', 'ФО']]\n",
        "\n",
        "# Создание третьего DataFrame\n",
        "df_3 = final_three_df.loc[:, ['Регион', 'Женщины, абсолютное число', 'Женщины, Показатель на 100 тыс. населения, \"грубый\"', 'Женщины, Показатель на 100 тыс. населения, стандартизованный', 'Женщины, Показатель на 100 тыс. населения, ошибка', 'Индикатор', 'Локализация', 'Таблица', 'Тип данных', 'Год', 'ФО']]\n"
      ]
    },
    {
      "cell_type": "code",
      "execution_count": 277,
      "metadata": {
        "id": "ApOPcaXCW8XX"
      },
      "outputs": [],
      "source": []
    },
    {
      "cell_type": "code",
      "execution_count": 278,
      "metadata": {
        "id": "2Okze8hjQ0wM"
      },
      "outputs": [],
      "source": [
        "#  Добавим в каждый новый датафрейм колонку \"Пол\"\n",
        "df_1['Пол'] = 'оба пола'\n",
        "df_2['Пол'] = 'муж'\n",
        "df_3['Пол'] = 'жен'"
      ]
    },
    {
      "cell_type": "code",
      "execution_count": 279,
      "metadata": {
        "id": "5bMCjH-vQaP_"
      },
      "outputs": [],
      "source": [
        "# Теперь объединим все эти три датафрейма, сделав в каждом из них одинаковые названия колонок\n",
        "# Изменение названий столбцов\n",
        "df_1.columns = ['Регион', 'Абсолютное число', 'Показатель на 100 тыс. населения, \"грубый\"', 'Показатель на 100 тыс. населения, стандартизованный',\\\n",
        "              'Показатель на 100 тыс. населения, ошибка', 'Индикатор', 'Локализация', 'Таблица', 'Тип данных', 'Год', 'ФО', 'Пол']\n",
        "\n",
        "df_2.columns = ['Регион', 'Абсолютное число', 'Показатель на 100 тыс. населения, \"грубый\"', 'Показатель на 100 тыс. населения, стандартизованный',\\\n",
        "              'Показатель на 100 тыс. населения, ошибка', 'Индикатор', 'Локализация', 'Таблица', 'Тип данных', 'Год', 'ФО', 'Пол']\n",
        "df_3.columns = ['Регион', 'Абсолютное число', 'Показатель на 100 тыс. населения, \"грубый\"', 'Показатель на 100 тыс. населения, стандартизованный',\\\n",
        "              'Показатель на 100 тыс. населения, ошибка', 'Индикатор', 'Локализация', 'Таблица', 'Тип данных', 'Год', 'ФО', 'Пол']\n"
      ]
    },
    {
      "cell_type": "code",
      "execution_count": 280,
      "metadata": {
        "colab": {
          "base_uri": "https://localhost:8080/"
        },
        "id": "tLGxMHbdRG9T",
        "outputId": "61e44a99-9bec-46b9-9d88-8b4d3a2e490a"
      },
      "outputs": [
        {
          "output_type": "stream",
          "name": "stderr",
          "text": [
            "100%|██████████| 9/9 [00:01<00:00,  8.06it/s]\n"
          ]
        }
      ],
      "source": [
        "import numpy as np\n",
        "# Определение пустого списка final_tree_dop\n",
        "final_three_dop = []\n",
        "\n",
        "# Цикл для обработки каждого файла в convert_four\n",
        "for el in tqdm(convert_three_dop):\n",
        "    # Открытие файла Excel\n",
        "    workbook = openpyxl.load_workbook(el)\n",
        "\n",
        "    # Выбор активного листа\n",
        "    sheet = workbook.active\n",
        "\n",
        "    # Извлечение значений из ячеек\n",
        "    ind = sheet['A2'].value\n",
        "    table = sheet['A1'].value.strip('')\n",
        "    if sheet['B4'].value is not None and sheet['B4'].value != '':\n",
        "        loc = sheet['B4'].value\n",
        "    else:\n",
        "        loc = sheet['A4'].value.strip()\n",
        "\n",
        "    year = sheet['B3'].value\n",
        "\n",
        "    # Чтение данных из файла Excel в DataFrame\n",
        "    df_three_dop = pd.read_excel(el, header=[6])\n",
        "    df_three_dop.columns = ['Регион',\n",
        "                  'Абсолютное число',\n",
        "                  'Показатель на 100 тыс. населения, \"грубый\"',\n",
        "                  'Показатель на 100 тыс. населения, стандартизованный',\n",
        "                  'Показатель на 100 тыс. населения, ошибка']\n",
        "    df_three_dop['Индикатор'] = ind\n",
        "    df_three_dop['Локализация'] = loc\n",
        "    df_three_dop['Таблица'] = table\n",
        "    df_three_dop['Тип данных'] = 'ЗНО заболеваемость'\n",
        "    df_three_dop['Год'] = year\n",
        "    df_three_dop['Пол'] = np.where((df_three_dop['Локализация'] == 'Предстательная железа (С61)') | (df_three_dop['Локализация'] == 'Другие мужские половые органы (С60,62,63)'), 'муж', 'жен')\n",
        "    # Добавление DataFrame в список final_four\n",
        "    final_three_dop.append(df_three_dop)"
      ]
    },
    {
      "cell_type": "code",
      "execution_count": 281,
      "metadata": {
        "id": "BXHnpU1uRYq2"
      },
      "outputs": [],
      "source": [
        "final_three_dop_df = pd.concat(final_three_dop)\n",
        "\n"
      ]
    },
    {
      "cell_type": "code",
      "execution_count": 282,
      "metadata": {
        "id": "kIjGBP3cRk0b"
      },
      "outputs": [],
      "source": [
        "#  Удаление пробелов в начале и конце строк в столбце регион\n",
        "final_three_dop_df.loc[:, 'Регион'] = final_three_dop_df['Регион'].str.strip()\n",
        "# Удаление строки с названием \"Россия\"\n",
        "final_three_dop_df = final_three_dop_df[final_three_dop_df['Регион'] != 'РОССИЯ']\n",
        "# Извлекаем все строки, содержащие 'ФО'\n",
        "bad_df = final_three_dop_df[final_three_dop_df['Регион'].str.upper().str.contains('ФО', regex=True)]\n",
        "# Удаляем строки из final_three_dop_df, которые есть в bad_df\n",
        "final_three_dop_df = final_three_dop_df[~final_three_dop_df['Регион'].isin(bad_df['Регион'])]\n",
        "# Создание нового столбца 'ФО' на основе существующего столбца 'Регион' с использованием лямбда-функции\n",
        "final_three_dop_df['ФО'] = final_three_dop_df['Регион'].apply(lambda x: next((fd for fd, subs in fed_districts.items() if x in subs), None))\n",
        "final_three_dop_df.columns = ['Регион', 'Абсолютное число', 'Показатель на 100 тыс. населения, \"грубый\"', 'Показатель на 100 тыс. населения, стандартизованный',\\\n",
        "              'Показатель на 100 тыс. населения, ошибка', 'Индикатор', 'Локализация', 'Таблица', 'Тип данных', 'Год', 'Пол', 'ФО']\n"
      ]
    },
    {
      "cell_type": "code",
      "execution_count": 283,
      "metadata": {
        "id": "jHto_xhvaPpp"
      },
      "outputs": [],
      "source": [
        "#  Поменяем местами столбцы Пол и ФО\n",
        "final_three_dop_df = final_three_dop_df.reindex(columns=['Регион', 'Абсолютное число',\n",
        "       'Показатель на 100 тыс. населения, \"грубый\"',\n",
        "       'Показатель на 100 тыс. населения, стандартизованный',\n",
        "       'Показатель на 100 тыс. населения, ошибка', 'Индикатор', 'Локализация',\n",
        "       'Таблица', 'Тип данных', 'Год', 'ФО', 'Пол'])\n"
      ]
    },
    {
      "cell_type": "code",
      "execution_count": 284,
      "metadata": {
        "id": "wLrWfno6Rx0H"
      },
      "outputs": [],
      "source": [
        "# Объединение DataFrame по вертикали\n",
        "combined_data = pd.concat([df_1, df_2, df_3, final_three_dop_df ], axis=0)\n",
        "# Обновление индексов\n",
        "combined_data = combined_data.reset_index(drop=True)\n"
      ]
    },
    {
      "cell_type": "code",
      "execution_count": 285,
      "metadata": {
        "colab": {
          "base_uri": "https://localhost:8080/"
        },
        "id": "UbNJvD2si1Md",
        "outputId": "dc66d981-a8d0-4f93-eb84-4a85ec4e278a"
      },
      "outputs": [
        {
          "output_type": "execute_result",
          "data": {
            "text/plain": [
              "array(['Таблица 20', 'Таблица 51', 'Таблица 12'], dtype=object)"
            ]
          },
          "metadata": {},
          "execution_count": 285
        }
      ],
      "source": [
        "#  В некоторых строках в Локализации есть пропуски:\n",
        "xx = combined_data[combined_data['Локализация'].isna()]  # с помощью метода isna() найдем пропуски и выведем на экран строки с проопусками\n",
        "xx['Таблица'].unique()\n"
      ]
    },
    {
      "cell_type": "code",
      "execution_count": 286,
      "metadata": {
        "id": "7kIhcAaAvc-i"
      },
      "outputs": [],
      "source": [
        "#  В таблицах 51, 20 и 12 Локализация была не в ячейке В4, а в ячейке А1. Поменяет руками локализацию:\n",
        "combined_data.loc[combined_data['Таблица'] == \"Таблица 51\", 'Локализация'] = \"Лимфогранулематоз (С81)\"\n",
        "combined_data.loc[combined_data['Таблица'] == \"Таблица 20\", 'Локализация'] = \"Пищевод (С15)\"\n",
        "combined_data.loc[combined_data['Таблица'] == \"Таблица 12\", 'Локализация'] = \"Злокачественные новообразования - всего (С00-96)\""
      ]
    },
    {
      "cell_type": "code",
      "execution_count": 287,
      "metadata": {
        "id": "eMrSK2R2bdaA"
      },
      "outputs": [],
      "source": [
        "# Вручную заменим пропуски в столбце Год на 2021\n",
        "combined_data['Год'] = combined_data['Год'].fillna('2021')\n"
      ]
    },
    {
      "cell_type": "code",
      "execution_count": 288,
      "metadata": {
        "colab": {
          "base_uri": "https://localhost:8080/"
        },
        "id": "ATMJ_0RxKg1l",
        "outputId": "a34984bc-f5a2-4848-ac06-b5f32b656ae7"
      },
      "outputs": [
        {
          "output_type": "stream",
          "name": "stderr",
          "text": [
            "100%|██████████| 29/29 [00:51<00:00,  1.76s/it]\n"
          ]
        }
      ],
      "source": [
        "#  Создадим 4 датафрейм, который будет состоять из 2 списков файлов: convert_four и convert_four_dop.\n",
        "# Определение пустого списка final_four\n",
        "final_four = []\n",
        "\n",
        "# Цикл для обработки каждого файла в convert_four\n",
        "for el in tqdm(convert_four):\n",
        "    # Открытие файла Excel\n",
        "    workbook = openpyxl.load_workbook(el)\n",
        "\n",
        "    # Выбор активного листа\n",
        "    sheet = workbook.active\n",
        "\n",
        "    # Извлечение значений из ячеек\n",
        "    ind = sheet['A2'].value\n",
        "    table = sheet['A1'].value\n",
        "    loc = sheet['B4'].value\n",
        "    year = sheet['B3'].value\n",
        "\n",
        "    # Чтение данных из файла Excel в DataFrame\n",
        "    df_four = pd.read_excel(el, header=[6])\n",
        "    df_four.columns = ['Регион',\n",
        "                  'Все население, абсолютное число',\n",
        "                  'Все население,Показатель на 100 тыс. населения, \"грубый\"',\n",
        "                  'Все население,Показатель на 100 тыс. населения, стандартизованный',\n",
        "                  'Все население,Показатель на 100 тыс. населения, ошибка',\n",
        "                  'Мужчины, абсолютное число',\n",
        "                  'Мужчины, Показатель на 100 тыс. населения, \"грубый\"',\n",
        "                  'Мужчины, Показатель на 100 тыс. населения, стандартизованный',\n",
        "                  'Мужчины, Показатель на 100 тыс. населения, ошибка',\n",
        "                  'Женщины, абсолютное число',\n",
        "                  'Женщины, Показатель на 100 тыс. населения, \"грубый\"',\n",
        "                  'Женщины, Показатель на 100 тыс. населения, стандартизованный',\n",
        "                  'Женщины, Показатель на 100 тыс. населения, ошибка',]\n",
        "    df_four['Индикатор'] = ind\n",
        "    df_four['Локализация'] = loc\n",
        "    df_four['Таблица'] = table\n",
        "    df_four['Тип данных'] = 'ЗНО смертность'\n",
        "    df_four['Год'] = year\n",
        "\n",
        "    # Добавление DataFrame в список final_four\n",
        "    final_four.append(df_four)\n"
      ]
    },
    {
      "cell_type": "code",
      "execution_count": 289,
      "metadata": {
        "id": "BLm0_Zy2Swz5"
      },
      "outputs": [],
      "source": [
        "final_four_df = pd.concat(final_four)\n"
      ]
    },
    {
      "cell_type": "code",
      "execution_count": 290,
      "metadata": {
        "id": "wnrCdAanTDZt"
      },
      "outputs": [],
      "source": [
        "#  Удаление пробелов в начале и конце строк в столбце регион\n",
        "final_four_df.loc[:, 'Регион'] = final_four_df['Регион'].str.strip()\n",
        "# Удаление строки с названием \"Россия\"\n",
        "final_four_df = final_four_df[final_four_df['Регион'] != 'РОССИЯ']\n",
        "# Извлекаем все строки, содержащие 'ФО'\n",
        "bad_df = final_four_df[final_four_df['Регион'].str.upper().str.contains('ФО', regex=True)]\n",
        "# Удаляем строки из final_two_df, которые есть в bad_df\n",
        "final_four_df = final_four_df[~final_four_df['Регион'].isin(bad_df['Регион'])]\n",
        "# Создание нового столбца 'ФО' на основе существующего столбца 'Регион' с использованием лямбда-функции\n",
        "final_four_df['ФО'] = final_four_df['Регион'].apply(lambda x: next((fd for fd, subs in fed_districts.items() if x in subs), None))\n"
      ]
    },
    {
      "cell_type": "code",
      "execution_count": 291,
      "metadata": {
        "id": "JXvoAMjBaw9j"
      },
      "outputs": [],
      "source": [
        "# Создание первого DataFrame\n",
        "df1 = final_four_df.loc[:, ['Регион', 'Все население, абсолютное число', 'Все население,Показатель на 100 тыс. населения, \"грубый\"',\\\n",
        "                            'Все население,Показатель на 100 тыс. населения, стандартизованный', 'Все население,Показатель на 100 тыс. населения, ошибка',\\\n",
        "                            'Индикатор', 'Локализация', 'Таблица', 'Тип данных', 'Год', 'ФО']]\n",
        "\n",
        "# Создание второго DataFrame\n",
        "df2 = final_four_df.loc[:, ['Регион', 'Мужчины, абсолютное число', 'Мужчины, Показатель на 100 тыс. населения, \"грубый\"', \\\n",
        "                            'Мужчины, Показатель на 100 тыс. населения, стандартизованный', 'Мужчины, Показатель на 100 тыс. населения, ошибка', \\\n",
        "                            'Индикатор', 'Локализация', 'Таблица', 'Тип данных', 'Год', 'ФО']]\n",
        "\n",
        "# Создание третьего DataFrame\n",
        "df3 = final_four_df.loc[:, ['Регион', 'Женщины, абсолютное число', 'Женщины, Показатель на 100 тыс. населения, \"грубый\"', \\\n",
        "                            'Женщины, Показатель на 100 тыс. населения, стандартизованный', 'Женщины, Показатель на 100 тыс. населения, ошибка',\\\n",
        "                            'Индикатор', 'Локализация', 'Таблица', 'Тип данных', 'Год', 'ФО']]\n"
      ]
    },
    {
      "cell_type": "code",
      "execution_count": 292,
      "metadata": {
        "id": "AjAq8frlbdnU"
      },
      "outputs": [],
      "source": [
        "df1['Пол'] = 'оба пола'\n",
        "df2['Пол'] = 'муж'\n",
        "df3['Пол'] = 'жен'\n"
      ]
    },
    {
      "cell_type": "code",
      "execution_count": 293,
      "metadata": {
        "id": "mxGuI0hNb7WS"
      },
      "outputs": [],
      "source": [
        "# Изменение названий столбцов\n",
        "df1.columns = ['Регион', 'Абсолютное число', 'Показатель на 100 тыс. населения, \"грубый\"', 'Показатель на 100 тыс. населения, стандартизованный',\\\n",
        "              'Показатель на 100 тыс. населения, ошибка', 'Индикатор', 'Локализация', 'Таблица', 'Тип данных', 'Год', 'ФО', 'Пол']\n",
        "\n",
        "df2.columns = ['Регион', 'Абсолютное число', 'Показатель на 100 тыс. населения, \"грубый\"', 'Показатель на 100 тыс. населения, стандартизованный',\\\n",
        "              'Показатель на 100 тыс. населения, ошибка', 'Индикатор', 'Локализация', 'Таблица', 'Тип данных', 'Год', 'ФО', 'Пол']\n",
        "df3.columns = ['Регион', 'Абсолютное число', 'Показатель на 100 тыс. населения, \"грубый\"', 'Показатель на 100 тыс. населения, стандартизованный',\\\n",
        "              'Показатель на 100 тыс. населения, ошибка', 'Индикатор', 'Локализация', 'Таблица', 'Тип данных', 'Год', 'ФО', 'Пол']\n",
        "\n"
      ]
    },
    {
      "cell_type": "code",
      "execution_count": 294,
      "metadata": {
        "colab": {
          "base_uri": "https://localhost:8080/"
        },
        "id": "UUMr94qAQbiu",
        "outputId": "b8721104-e4a7-4ffb-aa7f-2ac83946766a"
      },
      "outputs": [
        {
          "output_type": "stream",
          "name": "stderr",
          "text": [
            "100%|██████████| 6/6 [00:06<00:00,  1.14s/it]\n"
          ]
        }
      ],
      "source": [
        "# Определение пустого списка final_four_dop\n",
        "final_four_dop = []\n",
        "\n",
        "# Цикл для обработки каждого файла в convert_four\n",
        "for el in tqdm(convert_four_dop):\n",
        "    # Открытие файла Excel\n",
        "    workbook = openpyxl.load_workbook(el)\n",
        "\n",
        "    # Выбор активного листа\n",
        "    sheet = workbook.active\n",
        "\n",
        "    # Извлечение значений из ячеек\n",
        "    ind = sheet['A2'].value\n",
        "    table = sheet['A1'].value\n",
        "    loc = sheet['B4'].value\n",
        "    year = sheet['B3'].value\n",
        "\n",
        "    # Чтение данных из файла Excel в DataFrame\n",
        "    df_four_dop = pd.read_excel(el, header=[6])\n",
        "    df_four_dop.columns = ['Регион',\n",
        "                  'Абсолютное число',\n",
        "                  'Показатель на 100 тыс. населения, \"грубый\"',\n",
        "                  'Показатель на 100 тыс. населения, стандартизованный',\n",
        "                  'Показатель на 100 тыс. населения, ошибка']\n",
        "    df_four_dop['Индикатор'] = ind\n",
        "    df_four_dop['Локализация'] = loc\n",
        "    df_four_dop['Таблица'] = table\n",
        "    df_four_dop['Тип данных'] = 'ЗНО смертность'\n",
        "    df_four_dop['Год'] = year\n",
        "    df_four_dop['Пол'] = np.where((df_four_dop['Локализация'] == 'Предстательная железа (С61)') | (df_four_dop['Локализация'] == 'Другие мужские половые органы (С60,62,63)'), 'муж', 'жен')\n",
        "    # Добавление DataFrame в список final_four\n",
        "    final_four_dop.append(df_four_dop)"
      ]
    },
    {
      "cell_type": "code",
      "execution_count": 295,
      "metadata": {
        "id": "ey0YBnvcSIcN"
      },
      "outputs": [],
      "source": [
        "final_four_dop_df = pd.concat(final_four_dop)\n"
      ]
    },
    {
      "cell_type": "code",
      "execution_count": 296,
      "metadata": {
        "id": "rtMa50OOWxSk"
      },
      "outputs": [],
      "source": [
        "#  Удаление пробелов в начале и конце строк в столбце регион\n",
        "final_four_dop_df.loc[:, 'Регион'] = final_four_dop_df['Регион'].str.strip()\n",
        "# Удаление строки с названием \"Россия\"\n",
        "final_four_dop_df = final_four_dop_df[final_four_dop_df['Регион'] != 'РОССИЯ']\n",
        "# Извлекаем все строки, содержащие 'ФО'\n",
        "bad_df = final_four_dop_df[final_four_dop_df['Регион'].str.upper().str.contains('ФО', regex=True)]\n",
        "# Удаляем строки из final_four_dop_df, которые есть в bad_df\n",
        "final_four_dop_df = final_four_dop_df[~final_four_dop_df['Регион'].isin(bad_df['Регион'])]\n",
        "# Создание нового столбца 'ФО' на основе существующего столбца 'Регион' с использованием лямбда-функции\n",
        "final_four_dop_df['ФО'] = final_four_dop_df['Регион'].apply(lambda x: next((fd for fd, subs in fed_districts.items() if x in subs), None))\n",
        "final_four_dop_df.columns = ['Регион', 'Абсолютное число', 'Показатель на 100 тыс. населения, \"грубый\"', 'Показатель на 100 тыс. населения, стандартизованный',\\\n",
        "              'Показатель на 100 тыс. населения, ошибка', 'Индикатор', 'Локализация', 'Таблица', 'Тип данных', 'Год', 'Пол', 'ФО']\n"
      ]
    },
    {
      "cell_type": "code",
      "execution_count": 297,
      "metadata": {
        "id": "PdKVjraFiJH-"
      },
      "outputs": [],
      "source": [
        "# Объединение DataFrame по вертикали\n",
        "combined_df = pd.concat([df1, df2, df3, final_four_dop_df ], axis=0)\n",
        "# Обновление индексов\n",
        "combined_df = combined_df.reset_index(drop=True)\n"
      ]
    },
    {
      "cell_type": "code",
      "execution_count": 298,
      "metadata": {
        "id": "SMgDka46d9hH"
      },
      "outputs": [],
      "source": [
        "#  В таблице 71 ЗНО локализация болезни была не в ячейке В4, а в ячейке А4.\n",
        "#  Соответственно, данные не подтянулась в датафрейм. Вместо пропусков поставим \"Пищевод\".\n",
        "#  Можно рекомендовать защитить ячейки в таблицах, куда вносят данные, чтобы для локализации была только ячейка B4.\n",
        "combined_df['Локализация'] = combined_df['Локализация'].fillna('Пищевод')\n"
      ]
    },
    {
      "cell_type": "code",
      "execution_count": 299,
      "metadata": {
        "id": "apvCsCD4f31C"
      },
      "outputs": [],
      "source": [
        "#  Теперь соединим combined_data в котором содержаться сведения о ЗНО заболеваемости и combined_df со сведениями о ЗНО смертности в датафрейм ZNO:\n",
        "ZNO = pd.concat([combined_data, combined_df], axis=0)\n",
        "# Обновление индексов\n",
        "ZNO = ZNO.reset_index(drop=True)\n"
      ]
    },
    {
      "cell_type": "code",
      "execution_count": 300,
      "metadata": {
        "id": "_NvyjmX8aFil"
      },
      "outputs": [],
      "source": [
        "#  Сохраним датафреймы в excel файлы\n",
        "final_one_df.to_excel('Состояние онко помощи (СОП) в РФ (впервые выявленно).xlsx', index=False)\n",
        "final_two_df.to_excel('Состояние онко помощи (СОП) в РФ (состоящие на учете).xlsx', index=False)\n",
        "final_two_dop_df.to_excel('Состояние онко помощи (СОП) в РФ (состоящие на учете_продолжение).xlsx', index=False)\n",
        "ZNO.to_excel('Злокачественные новообразования (ЗНО) в РФ (заболеваемость и смертность).xlsx', index=False)\n"
      ]
    },
    {
      "cell_type": "code",
      "execution_count": 301,
      "metadata": {
        "colab": {
          "base_uri": "https://localhost:8080/",
          "height": 17
        },
        "id": "CSMpMrqVaRWG",
        "outputId": "bdf01081-879f-429e-ae54-7cf42ab0abf3"
      },
      "outputs": [
        {
          "output_type": "display_data",
          "data": {
            "text/plain": [
              "<IPython.core.display.Javascript object>"
            ],
            "application/javascript": [
              "\n",
              "    async function download(id, filename, size) {\n",
              "      if (!google.colab.kernel.accessAllowed) {\n",
              "        return;\n",
              "      }\n",
              "      const div = document.createElement('div');\n",
              "      const label = document.createElement('label');\n",
              "      label.textContent = `Downloading \"${filename}\": `;\n",
              "      div.appendChild(label);\n",
              "      const progress = document.createElement('progress');\n",
              "      progress.max = size;\n",
              "      div.appendChild(progress);\n",
              "      document.body.appendChild(div);\n",
              "\n",
              "      const buffers = [];\n",
              "      let downloaded = 0;\n",
              "\n",
              "      const channel = await google.colab.kernel.comms.open(id);\n",
              "      // Send a message to notify the kernel that we're ready.\n",
              "      channel.send({})\n",
              "\n",
              "      for await (const message of channel.messages) {\n",
              "        // Send a message to notify the kernel that we're ready.\n",
              "        channel.send({})\n",
              "        if (message.buffers) {\n",
              "          for (const buffer of message.buffers) {\n",
              "            buffers.push(buffer);\n",
              "            downloaded += buffer.byteLength;\n",
              "            progress.value = downloaded;\n",
              "          }\n",
              "        }\n",
              "      }\n",
              "      const blob = new Blob(buffers, {type: 'application/binary'});\n",
              "      const a = document.createElement('a');\n",
              "      a.href = window.URL.createObjectURL(blob);\n",
              "      a.download = filename;\n",
              "      div.appendChild(a);\n",
              "      a.click();\n",
              "      div.remove();\n",
              "    }\n",
              "  "
            ]
          },
          "metadata": {}
        },
        {
          "output_type": "display_data",
          "data": {
            "text/plain": [
              "<IPython.core.display.Javascript object>"
            ],
            "application/javascript": [
              "download(\"download_0ba8043e-ee17-4af7-b221-4ff56de683e7\", \"\\u0421\\u043e\\u0441\\u0442\\u043e\\u044f\\u043d\\u0438\\u0435 \\u043e\\u043d\\u043a\\u043e \\u043f\\u043e\\u043c\\u043e\\u0449\\u0438 (\\u0421\\u041e\\u041f) \\u0432 \\u0420\\u0424 (\\u0432\\u043f\\u0435\\u0440\\u0432\\u044b\\u0435 \\u0432\\u044b\\u044f\\u0432\\u043b\\u0435\\u043d\\u043d\\u043e).xlsx\", 214353)"
            ]
          },
          "metadata": {}
        },
        {
          "output_type": "display_data",
          "data": {
            "text/plain": [
              "<IPython.core.display.Javascript object>"
            ],
            "application/javascript": [
              "\n",
              "    async function download(id, filename, size) {\n",
              "      if (!google.colab.kernel.accessAllowed) {\n",
              "        return;\n",
              "      }\n",
              "      const div = document.createElement('div');\n",
              "      const label = document.createElement('label');\n",
              "      label.textContent = `Downloading \"${filename}\": `;\n",
              "      div.appendChild(label);\n",
              "      const progress = document.createElement('progress');\n",
              "      progress.max = size;\n",
              "      div.appendChild(progress);\n",
              "      document.body.appendChild(div);\n",
              "\n",
              "      const buffers = [];\n",
              "      let downloaded = 0;\n",
              "\n",
              "      const channel = await google.colab.kernel.comms.open(id);\n",
              "      // Send a message to notify the kernel that we're ready.\n",
              "      channel.send({})\n",
              "\n",
              "      for await (const message of channel.messages) {\n",
              "        // Send a message to notify the kernel that we're ready.\n",
              "        channel.send({})\n",
              "        if (message.buffers) {\n",
              "          for (const buffer of message.buffers) {\n",
              "            buffers.push(buffer);\n",
              "            downloaded += buffer.byteLength;\n",
              "            progress.value = downloaded;\n",
              "          }\n",
              "        }\n",
              "      }\n",
              "      const blob = new Blob(buffers, {type: 'application/binary'});\n",
              "      const a = document.createElement('a');\n",
              "      a.href = window.URL.createObjectURL(blob);\n",
              "      a.download = filename;\n",
              "      div.appendChild(a);\n",
              "      a.click();\n",
              "      div.remove();\n",
              "    }\n",
              "  "
            ]
          },
          "metadata": {}
        },
        {
          "output_type": "display_data",
          "data": {
            "text/plain": [
              "<IPython.core.display.Javascript object>"
            ],
            "application/javascript": [
              "download(\"download_5939d29c-7f59-4a89-968a-97d17b186a72\", \"\\u0421\\u043e\\u0441\\u0442\\u043e\\u044f\\u043d\\u0438\\u0435 \\u043e\\u043d\\u043a\\u043e \\u043f\\u043e\\u043c\\u043e\\u0449\\u0438 (\\u0421\\u041e\\u041f) \\u0432 \\u0420\\u0424 (\\u0441\\u043e\\u0441\\u0442\\u043e\\u044f\\u0449\\u0438\\u0435 \\u043d\\u0430 \\u0443\\u0447\\u0435\\u0442\\u0435).xlsx\", 210657)"
            ]
          },
          "metadata": {}
        },
        {
          "output_type": "display_data",
          "data": {
            "text/plain": [
              "<IPython.core.display.Javascript object>"
            ],
            "application/javascript": [
              "\n",
              "    async function download(id, filename, size) {\n",
              "      if (!google.colab.kernel.accessAllowed) {\n",
              "        return;\n",
              "      }\n",
              "      const div = document.createElement('div');\n",
              "      const label = document.createElement('label');\n",
              "      label.textContent = `Downloading \"${filename}\": `;\n",
              "      div.appendChild(label);\n",
              "      const progress = document.createElement('progress');\n",
              "      progress.max = size;\n",
              "      div.appendChild(progress);\n",
              "      document.body.appendChild(div);\n",
              "\n",
              "      const buffers = [];\n",
              "      let downloaded = 0;\n",
              "\n",
              "      const channel = await google.colab.kernel.comms.open(id);\n",
              "      // Send a message to notify the kernel that we're ready.\n",
              "      channel.send({})\n",
              "\n",
              "      for await (const message of channel.messages) {\n",
              "        // Send a message to notify the kernel that we're ready.\n",
              "        channel.send({})\n",
              "        if (message.buffers) {\n",
              "          for (const buffer of message.buffers) {\n",
              "            buffers.push(buffer);\n",
              "            downloaded += buffer.byteLength;\n",
              "            progress.value = downloaded;\n",
              "          }\n",
              "        }\n",
              "      }\n",
              "      const blob = new Blob(buffers, {type: 'application/binary'});\n",
              "      const a = document.createElement('a');\n",
              "      a.href = window.URL.createObjectURL(blob);\n",
              "      a.download = filename;\n",
              "      div.appendChild(a);\n",
              "      a.click();\n",
              "      div.remove();\n",
              "    }\n",
              "  "
            ]
          },
          "metadata": {}
        },
        {
          "output_type": "display_data",
          "data": {
            "text/plain": [
              "<IPython.core.display.Javascript object>"
            ],
            "application/javascript": [
              "download(\"download_e39794b7-d94a-4f1f-805d-64e4697ffbe2\", \"\\u0421\\u043e\\u0441\\u0442\\u043e\\u044f\\u043d\\u0438\\u0435 \\u043e\\u043d\\u043a\\u043e \\u043f\\u043e\\u043c\\u043e\\u0449\\u0438 (\\u0421\\u041e\\u041f) \\u0432 \\u0420\\u0424 (\\u0441\\u043e\\u0441\\u0442\\u043e\\u044f\\u0449\\u0438\\u0435 \\u043d\\u0430 \\u0443\\u0447\\u0435\\u0442\\u0435_\\u043f\\u0440\\u043e\\u0434\\u043e\\u043b\\u0436\\u0435\\u043d\\u0438\\u0435).xlsx\", 189687)"
            ]
          },
          "metadata": {}
        },
        {
          "output_type": "display_data",
          "data": {
            "text/plain": [
              "<IPython.core.display.Javascript object>"
            ],
            "application/javascript": [
              "\n",
              "    async function download(id, filename, size) {\n",
              "      if (!google.colab.kernel.accessAllowed) {\n",
              "        return;\n",
              "      }\n",
              "      const div = document.createElement('div');\n",
              "      const label = document.createElement('label');\n",
              "      label.textContent = `Downloading \"${filename}\": `;\n",
              "      div.appendChild(label);\n",
              "      const progress = document.createElement('progress');\n",
              "      progress.max = size;\n",
              "      div.appendChild(progress);\n",
              "      document.body.appendChild(div);\n",
              "\n",
              "      const buffers = [];\n",
              "      let downloaded = 0;\n",
              "\n",
              "      const channel = await google.colab.kernel.comms.open(id);\n",
              "      // Send a message to notify the kernel that we're ready.\n",
              "      channel.send({})\n",
              "\n",
              "      for await (const message of channel.messages) {\n",
              "        // Send a message to notify the kernel that we're ready.\n",
              "        channel.send({})\n",
              "        if (message.buffers) {\n",
              "          for (const buffer of message.buffers) {\n",
              "            buffers.push(buffer);\n",
              "            downloaded += buffer.byteLength;\n",
              "            progress.value = downloaded;\n",
              "          }\n",
              "        }\n",
              "      }\n",
              "      const blob = new Blob(buffers, {type: 'application/binary'});\n",
              "      const a = document.createElement('a');\n",
              "      a.href = window.URL.createObjectURL(blob);\n",
              "      a.download = filename;\n",
              "      div.appendChild(a);\n",
              "      a.click();\n",
              "      div.remove();\n",
              "    }\n",
              "  "
            ]
          },
          "metadata": {}
        },
        {
          "output_type": "display_data",
          "data": {
            "text/plain": [
              "<IPython.core.display.Javascript object>"
            ],
            "application/javascript": [
              "download(\"download_15e2178d-d2d1-4615-a016-66b72f8bb7f8\", \"\\u0417\\u043b\\u043e\\u043a\\u0430\\u0447\\u0435\\u0441\\u0442\\u0432\\u0435\\u043d\\u043d\\u044b\\u0435 \\u043d\\u043e\\u0432\\u043e\\u043e\\u0431\\u0440\\u0430\\u0437\\u043e\\u0432\\u0430\\u043d\\u0438\\u044f (\\u0417\\u041d\\u041e) \\u0432 \\u0420\\u0424 (\\u0437\\u0430\\u0431\\u043e\\u043b\\u0435\\u0432\\u0430\\u0435\\u043c\\u043e\\u0441\\u0442\\u044c \\u0438 \\u0441\\u043c\\u0435\\u0440\\u0442\\u043d\\u043e\\u0441\\u0442\\u044c).xlsx\", 1455870)"
            ]
          },
          "metadata": {}
        }
      ],
      "source": [
        "from google.colab import files\n",
        "\n",
        "files.download('Состояние онко помощи (СОП) в РФ (впервые выявленно).xlsx')\n",
        "files.download('Состояние онко помощи (СОП) в РФ (состоящие на учете).xlsx')\n",
        "files.download('Состояние онко помощи (СОП) в РФ (состоящие на учете_продолжение).xlsx')\n",
        "files.download('Злокачественные новообразования (ЗНО) в РФ (заболеваемость и смертность).xlsx')"
      ]
    }
  ],
  "metadata": {
    "colab": {
      "provenance": []
    },
    "kernelspec": {
      "display_name": "Python 3",
      "name": "python3"
    },
    "language_info": {
      "name": "python"
    }
  },
  "nbformat": 4,
  "nbformat_minor": 0
}